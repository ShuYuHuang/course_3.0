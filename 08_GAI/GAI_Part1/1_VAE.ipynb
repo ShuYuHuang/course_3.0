{
  "cells": [
    {
      "cell_type": "markdown",
      "metadata": {
        "id": "view-in-github",
        "colab_type": "text"
      },
      "source": [
        "<a href=\"https://colab.research.google.com/github/ShuYuHuang/course_3.0/blob/main/08_GAI/GAI_Part1/1_VAE.ipynb\" target=\"_parent\"><img src=\"https://colab.research.google.com/assets/colab-badge.svg\" alt=\"Open In Colab\"/></a>"
      ]
    },
    {
      "cell_type": "markdown",
      "metadata": {
        "id": "a0gPH2gCrZig"
      },
      "source": [
        "# Variational Auto Encoder"
      ]
    },
    {
      "cell_type": "markdown",
      "metadata": {
        "id": "pn2IgMK3rZig"
      },
      "source": [
        "## Preparations"
      ]
    },
    {
      "cell_type": "markdown",
      "metadata": {
        "id": "zaaAR6JprZih"
      },
      "source": [
        "### Imports and Installs"
      ]
    },
    {
      "cell_type": "code",
      "execution_count": null,
      "metadata": {
        "id": "6RKpZsF-rZih"
      },
      "outputs": [],
      "source": [
        "%pip install plotly"
      ]
    },
    {
      "cell_type": "code",
      "execution_count": null,
      "metadata": {
        "id": "K-8QN8kwrZii"
      },
      "outputs": [],
      "source": [
        "%matplotlib inline\n",
        "\n",
        "import matplotlib.pyplot as plt\n",
        "from plotly import express as px\n",
        "\n",
        "import numpy as np\n",
        "import tensorflow as tf\n",
        "import tensorflow.data as tfd"
      ]
    },
    {
      "cell_type": "markdown",
      "metadata": {
        "id": "1iChKiZgrZij"
      },
      "source": [
        "## Data"
      ]
    },
    {
      "cell_type": "markdown",
      "metadata": {
        "id": "-RUgFSVprZij"
      },
      "source": [
        "本次使用MNIST數字資料集"
      ]
    },
    {
      "cell_type": "code",
      "execution_count": null,
      "metadata": {
        "id": "mZbLreCerZik"
      },
      "outputs": [],
      "source": [
        "from tensorflow import keras\n",
        "\n",
        "(x_train, _), (x_test, _) = keras.datasets.mnist.load_data()\n",
        "mnist_digits = np.concatenate([x_train, x_test], axis=0)\n",
        "mnist_digits = np.expand_dims(mnist_digits, -1).astype(\"float32\") / 255\n",
        "\n",
        "print(mnist_digits.shape)"
      ]
    },
    {
      "cell_type": "markdown",
      "metadata": {
        "id": "EJePsHbsrZik"
      },
      "source": [
        "## Model Construction"
      ]
    },
    {
      "cell_type": "markdown",
      "metadata": {
        "id": "8miuEyYlrZik"
      },
      "source": [
        "### Sampling Cell\n",
        "我們在課堂上學到，VAE中會將雜訊加入encode完的feature map中：\n",
        "\n",
        "$$\n",
        "z =  \\mu + \\epsilon , \\epsilon \\sim \\mathcal{N}(0,\\sigma)\n",
        "$$\n",
        "\n",
        "但因為Normal Distribution這種取樣的步驟不可微分，所以實際上的做法則是使用 NN encode出兩個latent變數$\\mu$與$\\sigma$，再使用一個sample來的權重$\\epsilon$就可以等效為上面z的算式:\n",
        "\n",
        "<img src=https://hackmd.io/_uploads/S1Y3Idnnn.png height=300>\n",
        "\n",
        "下面我們來實作一下這個算式作為一個Layer\n",
        "$$\n",
        "\\epsilon \\sim \\mathcal{N}(0,1)\n",
        "$$\n",
        "$$\n",
        "z = \\mu + \\sigma \\odot \\epsilon\n",
        "$$"
      ]
    },
    {
      "cell_type": "code",
      "execution_count": null,
      "metadata": {
        "id": "h5Zay4U1rZil"
      },
      "outputs": [],
      "source": [
        "from tensorflow.keras import layers\n",
        "\n",
        "class Sampling(layers.Layer):\n",
        "    \"\"\"Uses (z_mean, z_log_var) to sample z, the vector encoding a digit.\"\"\"\n",
        "\n",
        "    def call(self, inputs):\n",
        "        z_mean, z_log_var = inputs\n",
        "        batch = tf.shape(z_mean)[0]\n",
        "        dim = tf.shape(z_mean)[1]\n",
        "        epsilon = tf.random.normal(shape=(batch, dim))\n",
        "        return z_mean + tf.exp(0.5 * z_log_var) * epsilon"
      ]
    },
    {
      "cell_type": "markdown",
      "metadata": {
        "id": "3d8I20OYrZil"
      },
      "source": [
        "### Encoder"
      ]
    },
    {
      "cell_type": "code",
      "execution_count": null,
      "metadata": {
        "id": "rZWp3QYtrZil"
      },
      "outputs": [],
      "source": [
        "latent_dim = 2\n",
        "\n",
        "encoder_inputs = keras.Input(shape=(28, 28, 1))\n",
        "x = layers.Conv2D(32, 3, activation=\"relu\", strides=2, padding=\"same\")(encoder_inputs)\n",
        "x = layers.Conv2D(64, 3, activation=\"relu\", strides=2, padding=\"same\")(x)\n",
        "x = layers.Flatten()(x)\n",
        "x = layers.Dense(16, activation=\"relu\")(x)\n",
        "z_mean = layers.Dense(latent_dim, name=\"z_mean\")(x)\n",
        "z_log_var = layers.Dense(latent_dim, name=\"z_log_var\")(x)\n",
        "z = Sampling()([z_mean, z_log_var])\n",
        "encoder = keras.Model(encoder_inputs, [z_mean, z_log_var, z], name=\"encoder\")\n",
        "# encoder.summary()\n"
      ]
    },
    {
      "cell_type": "markdown",
      "metadata": {
        "id": "uvvqVdXwrZil"
      },
      "source": [
        "### Decoder"
      ]
    },
    {
      "cell_type": "code",
      "execution_count": null,
      "metadata": {
        "id": "_u6sTMSorZil"
      },
      "outputs": [],
      "source": [
        "latent_inputs = keras.Input(shape=(latent_dim,))\n",
        "x = layers.Dense(7 * 7 * 64, activation=\"relu\")(latent_inputs)\n",
        "x = layers.Reshape((7, 7, 64))(x)\n",
        "x = layers.Conv2DTranspose(64, 3, activation=\"relu\", strides=2, padding=\"same\")(x)\n",
        "x = layers.Conv2DTranspose(32, 3, activation=\"relu\", strides=2, padding=\"same\")(x)\n",
        "decoder_outputs = layers.Conv2DTranspose(1, 3, activation=\"sigmoid\", padding=\"same\")(x)\n",
        "decoder = keras.Model(latent_inputs, decoder_outputs, name=\"decoder\")\n",
        "#decoder.summary()"
      ]
    },
    {
      "cell_type": "markdown",
      "metadata": {
        "id": "rYjCRI53rZil"
      },
      "source": [
        "## Training Step"
      ]
    },
    {
      "cell_type": "markdown",
      "metadata": {
        "id": "JM0qZ1bXrZil"
      },
      "source": [
        "### Model Class with training step"
      ]
    },
    {
      "cell_type": "code",
      "execution_count": null,
      "metadata": {
        "id": "Gao4z7qArZim"
      },
      "outputs": [],
      "source": [
        "class VAE(keras.Model):\n",
        "    def __init__(self, encoder, decoder, **kwargs):\n",
        "        super().__init__(**kwargs)\n",
        "        self.encoder = encoder\n",
        "        self.decoder = decoder\n",
        "        self.total_loss_tracker = keras.metrics.Mean(name=\"total_loss\")\n",
        "        self.reconstruction_loss_tracker = keras.metrics.Mean(\n",
        "            name=\"reconstruction_loss\"\n",
        "        )\n",
        "        self.kl_loss_tracker = keras.metrics.Mean(name=\"kl_loss\")\n",
        "\n",
        "    @property\n",
        "    def metrics(self):\n",
        "        return [\n",
        "            self.total_loss_tracker,\n",
        "            self.reconstruction_loss_tracker,\n",
        "            self.kl_loss_tracker,\n",
        "        ]\n",
        "\n",
        "    def train_step(self, data):\n",
        "\n",
        "        with tf.GradientTape() as tape:\n",
        "            z_mean, z_log_var, z = self.encoder(data)\n",
        "            reconstruction = self.decoder(z)\n",
        "            reconstruction_loss = tf.reduce_mean(\n",
        "                tf.reduce_sum(\n",
        "                    keras.losses.binary_crossentropy(data, reconstruction), axis=(1, 2)\n",
        "                )\n",
        "            )\n",
        "            kl_loss = -0.5 * (1 + z_log_var - tf.square(z_mean) - tf.exp(z_log_var))\n",
        "            kl_loss = tf.reduce_mean(tf.reduce_sum(kl_loss, axis=1))\n",
        "            total_loss = reconstruction_loss + kl_loss\n",
        "        grads = tape.gradient(total_loss, self.trainable_weights)\n",
        "        self.optimizer.apply_gradients(zip(grads, self.trainable_weights))\n",
        "        self.total_loss_tracker.update_state(total_loss)\n",
        "        self.reconstruction_loss_tracker.update_state(reconstruction_loss)\n",
        "        self.kl_loss_tracker.update_state(kl_loss)\n",
        "        return {\n",
        "            \"loss\": self.total_loss_tracker.result(),\n",
        "            \"reconstruction_loss\": self.reconstruction_loss_tracker.result(),\n",
        "            \"kl_loss\": self.kl_loss_tracker.result(),\n",
        "        }"
      ]
    },
    {
      "cell_type": "markdown",
      "metadata": {
        "id": "3ezkIhearZim"
      },
      "source": [
        "### Training Start"
      ]
    },
    {
      "cell_type": "code",
      "execution_count": null,
      "metadata": {
        "id": "6OSnDk4MrZim"
      },
      "outputs": [],
      "source": [
        "vae = VAE(encoder, decoder)\n",
        "vae.compile(optimizer=keras.optimizers.Adam())\n",
        "history = vae.fit(mnist_digits, epochs=20, batch_size=128)"
      ]
    },
    {
      "cell_type": "markdown",
      "metadata": {
        "id": "6O5R1cJWrZin"
      },
      "source": [
        "## Output Observation"
      ]
    },
    {
      "cell_type": "markdown",
      "metadata": {
        "id": "0SkkCYx-rZin"
      },
      "source": [
        "### Encoder Latent Space\n",
        "在Encoder latent space中我們可以觀察到我們訓練出來的Encoder究竟將影像embed成什麼樣子的分布"
      ]
    },
    {
      "cell_type": "code",
      "execution_count": null,
      "metadata": {
        "id": "xL0sN20jrZin"
      },
      "outputs": [],
      "source": [
        "import plotly.express as px\n",
        "\n",
        "def plot_label_clusters(vae, data, labels):\n",
        "    # Display a 2D plot of the digit classes in the latent space\n",
        "    z_mean, _, _ = vae.encoder.predict(data, verbose=False)\n",
        "\n",
        "    fig = px.scatter(x=z_mean[:, 0], y=z_mean[:, 1], color=labels)\n",
        "    fig.update_layout(\n",
        "        width=600,\n",
        "        height=500,\n",
        "        xaxis_title=\"z[0]\",\n",
        "        yaxis_title=\"z[1]\",\n",
        "        coloraxis_colorbar_title=\"Labels\"\n",
        "    )\n",
        "    fig.show()\n",
        "\n",
        "\n",
        "\n",
        "_ , (x_test, y_test) = keras.datasets.mnist.load_data()\n",
        "x_test = np.expand_dims(x_test, -1).astype(\"float32\") / 255\n",
        "\n",
        "plot_label_clusters(vae, x_test, y_test)\n",
        "\n",
        "# Output 出來每個class的分布都不一樣，可看出大致上在latent space (z[0],z[1]) 中不同數字佔不同區塊，分布也有些差異"
      ]
    },
    {
      "cell_type": "markdown",
      "metadata": {
        "id": "hcdw3AvXrZin"
      },
      "source": [
        "### Decode Latent Space\n",
        "\n",
        "Decoder 負責將latent space中的vector還原到image space中，我們來看看space中每個位置還原回來長什麼樣子"
      ]
    },
    {
      "cell_type": "code",
      "execution_count": null,
      "metadata": {
        "id": "8AhxUjNRrZin"
      },
      "outputs": [],
      "source": [
        "import numpy as np\n",
        "import plotly.graph_objects as go\n",
        "\n",
        "def plot_latent_space(vae, n=20, figsize=600):\n",
        "    # Display an n*n 2D manifold of digits\n",
        "    digit_size = 28\n",
        "    scale = 1.0\n",
        "    figure = np.zeros((digit_size * n, digit_size * n))\n",
        "    # Linearly spaced coordinates corresponding to the 2D plot\n",
        "    # of digit classes in the latent space\n",
        "    grid_x = np.linspace(-scale, scale, n)\n",
        "    grid_y = np.linspace(-scale, scale, n)[::-1]\n",
        "\n",
        "    for i, yi in enumerate(grid_y):\n",
        "        for j, xi in enumerate(grid_x):\n",
        "            z_sample = np.array([[xi, yi]])\n",
        "            x_decoded = vae.decoder.predict(z_sample, verbose=False)\n",
        "            digit = x_decoded[0].reshape(digit_size, digit_size)\n",
        "            figure[\n",
        "                i * digit_size : (i + 1) * digit_size,\n",
        "                j * digit_size : (j + 1) * digit_size,\n",
        "            ] = digit\n",
        "\n",
        "    start_range = digit_size // 2\n",
        "    end_range = n * digit_size + start_range\n",
        "    pixel_range = np.arange(start_range, end_range, digit_size)\n",
        "    sample_range_x = np.round(grid_x, 1)\n",
        "    sample_range_y = np.round(grid_y, 1)\n",
        "\n",
        "    fig = go.Figure(data=go.Heatmap(z=figure[::-1], colorscale=\"gray\"))\n",
        "    fig.update_xaxes(tickvals=pixel_range, ticktext=sample_range_x)\n",
        "    fig.update_yaxes(tickvals=pixel_range, ticktext=sample_range_y)\n",
        "    fig.update_layout(\n",
        "        width=figsize,\n",
        "        height=figsize,\n",
        "        xaxis_title=\"z[0]\",\n",
        "        yaxis_title=\"z[1]\",\n",
        "    )\n",
        "    fig.show()\n",
        "plot_latent_space(vae)"
      ]
    },
    {
      "cell_type": "markdown",
      "source": [
        "## Reference\n",
        "- [Keras Example of Variational Auto Encoder](https://keras.io/examples/generative/vae/)\n",
        "- Kingma, D. P., & Welling, M. (2013). Auto-encoding variational bayes. arXiv preprint arXiv:1312.6114.\n",
        "- Kingma, D. P., & Welling, M. (2019). An introduction to variational autoencoders. Foundations and Trends® in Machine Learning, 12(4), 307-392."
      ],
      "metadata": {
        "id": "TG9AhHQ0swu7"
      }
    },
    {
      "cell_type": "code",
      "execution_count": null,
      "metadata": {
        "id": "h5SWOe1-rZio"
      },
      "outputs": [],
      "source": []
    }
  ],
  "metadata": {
    "kernelspec": {
      "display_name": "Python 3",
      "name": "python3"
    },
    "language_info": {
      "codemirror_mode": {
        "name": "ipython",
        "version": 3
      },
      "file_extension": ".py",
      "mimetype": "text/x-python",
      "name": "python",
      "nbconvert_exporter": "python",
      "pygments_lexer": "ipython3",
      "version": "3.7.12"
    },
    "orig_nbformat": 4,
    "colab": {
      "provenance": [],
      "gpuType": "T4",
      "include_colab_link": true
    },
    "accelerator": "GPU"
  },
  "nbformat": 4,
  "nbformat_minor": 0
}